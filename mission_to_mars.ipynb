{
 "cells": [
  {
   "cell_type": "code",
   "execution_count": 8,
   "metadata": {},
   "outputs": [],
   "source": [
    "import numpy as np\n",
    "import pandas as pd\n",
    "from bs4 import BeautifulSoup\n",
    "import requests\n",
    "import os\n",
    "from splinter import Browser\n",
    "from datetime import datetime"
   ]
  },
  {
   "cell_type": "markdown",
   "metadata": {},
   "source": [
    "# NASA Mars News"
   ]
  },
  {
   "cell_type": "code",
   "execution_count": 9,
   "metadata": {},
   "outputs": [
    {
     "name": "stdout",
     "output_type": "stream",
     "text": [
      "Mars 2020 Rover: T-Minus One Year and Counting\n",
      "The launch period for NASA's next rover, Mars 2020, opens exactly one year from today, July 17, 2020, and extends through Aug. 5, 2020.\n"
     ]
    }
   ],
   "source": [
    "executable_path = {'executable_path': 'chromedriver.exe'}\n",
    "browser = Browser('chrome', **executable_path, headless=False)\n",
    "urlNews = 'https://mars.nasa.gov/news/'\n",
    "browser.visit(urlNews)\n",
    "htmlNews = browser.html\n",
    "soupCleanNews = BeautifulSoup(htmlNews, 'html.parser')\n",
    "resultsCleanNews = soupCleanNews.find_all('div', class_=\"list_text\")\n",
    "allDataDate = []\n",
    "allDataText = []\n",
    "allDataURL = []\n",
    "allDataURLTeaser = []\n",
    "\n",
    "for i in resultsCleanNews:\n",
    "    try:\n",
    "        dateText = datetime.strptime(i.find('div',class_=\"list_date\").text, '%B %d, %Y')\n",
    "        urlText = 'https://mars.nasa.gov' + i.a['href']\n",
    "        titleText = i.find('a').text\n",
    "        teaserText = i.find('div', class_='article_teaser_body').text\n",
    "        allDataDate.append(dateText)\n",
    "        allDataText.append(titleText)\n",
    "        allDataURL.append(urlText)\n",
    "        allDataURLTeaser.append(teaserText)\n",
    "    except AttributeError as e:\n",
    "        print(e)\n",
    "        \n",
    "marsNewsDT = pd.DataFrame({\n",
    "    'Date': allDataDate,\n",
    "    'Title': allDataText,\n",
    "    'Teaser' : allDataURLTeaser,\n",
    "    'URL' : allDataURL\n",
    "})\n",
    "RelNewsData = marsNewsDT[marsNewsDT.Date==max(marsNewsDT.Date)]\n",
    "news_title = RelNewsData.iat[0,1].strip()\n",
    "news_p = RelNewsData.iat[0,2].strip()\n",
    "browser.quit()\n",
    "print(news_title)\n",
    "print(news_p)"
   ]
  },
  {
   "cell_type": "markdown",
   "metadata": {},
   "source": [
    "# JPL Mars Space Images - Featured Image"
   ]
  },
  {
   "cell_type": "code",
   "execution_count": 10,
   "metadata": {},
   "outputs": [
    {
     "data": {
      "text/plain": [
       "'https://www.jpl.nasa.gov/spaceimages/images/wallpaper/PIA23341-640x350.jpg'"
      ]
     },
     "execution_count": 10,
     "metadata": {},
     "output_type": "execute_result"
    }
   ],
   "source": [
    "executable_path = {'executable_path': 'chromedriver.exe'}\n",
    "browser = Browser('chrome', **executable_path, headless=False)\n",
    "urlFeaturedImage = 'https://www.jpl.nasa.gov/spaceimages/?search=&category=Mars'\n",
    "browser.visit(urlFeaturedImage)\n",
    "htmlurlFeaturedImage = browser.html\n",
    "soupCleanFeaturedImage = BeautifulSoup(htmlurlFeaturedImage, 'html.parser')\n",
    "FeaturedImage = soupCleanFeaturedImage.find(\"img\", class_=\"thumb\")[\"src\"]\n",
    "featured_image_url = \"https://www.jpl.nasa.gov\" + FeaturedImage\n",
    "browser.quit()\n",
    "featured_image_url"
   ]
  },
  {
   "cell_type": "markdown",
   "metadata": {},
   "source": [
    "# Mars Weather"
   ]
  },
  {
   "cell_type": "code",
   "execution_count": 11,
   "metadata": {
    "scrolled": false
   },
   "outputs": [
    {
     "data": {
      "text/plain": [
       "'InSight sol 222 (2019-07-12) low -99.7ºC (-147.5ºF) high -24.8ºC (-12.6ºF)\\nwinds from the SSE at 4.2 m/s (9.4 mph) gusting to 15.6 m/s (34.8 mph)\\npressure at 7.60 hpa'"
      ]
     },
     "execution_count": 11,
     "metadata": {},
     "output_type": "execute_result"
    }
   ],
   "source": [
    "executable_path = {'executable_path': 'chromedriver.exe'}\n",
    "browser = Browser('chrome', **executable_path, headless=False)\n",
    "urlTwitter = 'https://twitter.com/marswxreport?lang=en'\n",
    "browser.visit(urlTwitter)\n",
    "htmlTwitter = browser.html\n",
    "soupCleanTwitter = BeautifulSoup(htmlTwitter, 'html.parser')\n",
    "resultsTwitter = soupCleanTwitter.find_all('div', class_=\"js-tweet-text-container\")\n",
    "tweetList = []\n",
    "for i in resultsTwitter:\n",
    "    tweetText = i.find('p').text\n",
    "    if 'InSight sol' in tweetText:\n",
    "        tweetTextMod = tweetText.replace('\\n',' ')\n",
    "        tweetTextMod = tweetText.replace('hPa','hpa|')\n",
    "        tweetTextMod = tweetTextMod.split('|', 1)[0].strip()\n",
    "        tweetList.append(tweetTextMod)\n",
    "mars_weather = tweetList[0]\n",
    "browser.quit()\n",
    "mars_weather"
   ]
  },
  {
   "cell_type": "markdown",
   "metadata": {},
   "source": [
    "# Mars Facts"
   ]
  },
  {
   "cell_type": "code",
   "execution_count": 12,
   "metadata": {},
   "outputs": [
    {
     "data": {
      "text/plain": [
       "'<table border=\"1\" class=\"dataframe\">\\n  <thead>\\n    <tr style=\"text-align: right;\">\\n      <th>Facts</th>\\n      <th>Values</th>\\n    </tr>\\n  </thead>\\n  <tbody>\\n    <tr>\\n      <td>Equatorial Diameter:</td>\\n      <td>6,792 km</td>\\n    </tr>\\n    <tr>\\n      <td>Polar Diameter:</td>\\n      <td>6,752 km</td>\\n    </tr>\\n    <tr>\\n      <td>Mass:</td>\\n      <td>6.39 × 10^23 kg (0.11 Earths)</td>\\n    </tr>\\n    <tr>\\n      <td>Moons:</td>\\n      <td>2 (Phobos &amp; Deimos)</td>\\n    </tr>\\n    <tr>\\n      <td>Orbit Distance:</td>\\n      <td>227,943,824 km (1.38 AU)</td>\\n    </tr>\\n    <tr>\\n      <td>Orbit Period:</td>\\n      <td>687 days (1.9 years)</td>\\n    </tr>\\n    <tr>\\n      <td>Surface Temperature:</td>\\n      <td>-87 to -5 °C</td>\\n    </tr>\\n    <tr>\\n      <td>First Record:</td>\\n      <td>2nd millennium BC</td>\\n    </tr>\\n    <tr>\\n      <td>Recorded By:</td>\\n      <td>Egyptian astronomers</td>\\n    </tr>\\n  </tbody>\\n</table>'"
      ]
     },
     "execution_count": 12,
     "metadata": {},
     "output_type": "execute_result"
    }
   ],
   "source": [
    "urlFacts = 'https://space-facts.com/mars/'\n",
    "FactsTables = pd.read_html(urlFacts)\n",
    "MarsFactsTables = FactsTables[1]\n",
    "MarsFactsTables.columns = ['Facts', 'Values']\n",
    "MarsFactsTables = MarsFactsTables.to_html(index = False)\n",
    "MarsFactsTables"
   ]
  },
  {
   "cell_type": "markdown",
   "metadata": {},
   "source": [
    "# Mars Hemispheres"
   ]
  },
  {
   "cell_type": "code",
   "execution_count": 13,
   "metadata": {},
   "outputs": [
    {
     "data": {
      "text/plain": [
       "[{'title': 'Cerberus Hemisphere Enhanced',\n",
       "  'img_url': 'http://astropedia.astrogeology.usgs.gov/download/Mars/Viking/cerberus_enhanced.tif'},\n",
       " {'title': 'Schiaparelli Hemisphere Enhanced',\n",
       "  'img_url': 'http://astropedia.astrogeology.usgs.gov/download/Mars/Viking/schiaparelli_enhanced.tif'},\n",
       " {'title': 'Syrtis Major Hemisphere Enhanced',\n",
       "  'img_url': 'http://astropedia.astrogeology.usgs.gov/download/Mars/Viking/syrtis_major_enhanced.tif'},\n",
       " {'title': 'Valles Marineris Hemisphere Enhanced',\n",
       "  'img_url': 'http://astropedia.astrogeology.usgs.gov/download/Mars/Viking/valles_marineris_enhanced.tif'}]"
      ]
     },
     "execution_count": 13,
     "metadata": {},
     "output_type": "execute_result"
    }
   ],
   "source": [
    "executable_path = {'executable_path': 'chromedriver.exe'}\n",
    "browser = Browser('chrome', **executable_path, headless=False)\n",
    "urlHemispheres = 'https://astrogeology.usgs.gov/search/results?q=hemisphere+enhanced&k1=target&v1=Mars'\n",
    "browser.visit(urlHemispheres)\n",
    "htmlHemispheres = browser.html\n",
    "soupCleanHemispheres = BeautifulSoup(htmlHemispheres, 'html.parser')\n",
    "browser.quit()\n",
    "resultsHemispheresURL = soupCleanHemispheres.find_all('a', class_=\"itemLink product-item\")\n",
    "hemisphere_image_urls = []\n",
    "for i in range(len(resultsHemispheresURL)):\n",
    "    if i % 2 == 1:\n",
    "        hemisphereText = resultsHemispheresURL[i].text\n",
    "        hemisphereURL = 'https://astrogeology.usgs.gov' + resultsHemispheresURL[i]['href']\n",
    "        executable_path = {'executable_path': 'chromedriver.exe'}\n",
    "        browser = Browser('chrome', **executable_path, headless=False)\n",
    "        browser.visit(hemisphereURL)\n",
    "        htmlHemispheresIMAGE = browser.html\n",
    "        soupCleanHemispheresIMAGE = BeautifulSoup(htmlHemispheresIMAGE, 'html.parser')\n",
    "        browser.quit()\n",
    "        resultsHemispheresIMAGEURL = soupCleanHemispheresIMAGE.find_all('li')\n",
    "        for i in resultsHemispheresIMAGEURL:\n",
    "            if i.find('a').text == 'Original':\n",
    "                hemisphereIMAGEURL = i.a['href']\n",
    "                hemisphere_image_urls.append({'title' : hemisphereText, 'img_url' : hemisphereIMAGEURL})\n",
    "                \n",
    "hemisphere_image_urls"
   ]
  },
  {
   "cell_type": "markdown",
   "metadata": {},
   "source": [
    "# Convert all Output to Dictionary"
   ]
  },
  {
   "cell_type": "code",
   "execution_count": 14,
   "metadata": {},
   "outputs": [
    {
     "data": {
      "text/plain": [
       "{'news_title': 'Mars 2020 Rover: T-Minus One Year and Counting',\n",
       " 'news_p': \"The launch period for NASA's next rover, Mars 2020, opens exactly one year from today, July 17, 2020, and extends through Aug. 5, 2020.\",\n",
       " 'featured_image_url': 'https://www.jpl.nasa.gov/spaceimages/images/wallpaper/PIA23341-640x350.jpg',\n",
       " 'mars_weather': 'InSight sol 222 (2019-07-12) low -99.7ºC (-147.5ºF) high -24.8ºC (-12.6ºF)\\nwinds from the SSE at 4.2 m/s (9.4 mph) gusting to 15.6 m/s (34.8 mph)\\npressure at 7.60 hpa',\n",
       " 'MarsFactsTables': '<table border=\"1\" class=\"dataframe\">\\n  <thead>\\n    <tr style=\"text-align: right;\">\\n      <th>Facts</th>\\n      <th>Values</th>\\n    </tr>\\n  </thead>\\n  <tbody>\\n    <tr>\\n      <td>Equatorial Diameter:</td>\\n      <td>6,792 km</td>\\n    </tr>\\n    <tr>\\n      <td>Polar Diameter:</td>\\n      <td>6,752 km</td>\\n    </tr>\\n    <tr>\\n      <td>Mass:</td>\\n      <td>6.39 × 10^23 kg (0.11 Earths)</td>\\n    </tr>\\n    <tr>\\n      <td>Moons:</td>\\n      <td>2 (Phobos &amp; Deimos)</td>\\n    </tr>\\n    <tr>\\n      <td>Orbit Distance:</td>\\n      <td>227,943,824 km (1.38 AU)</td>\\n    </tr>\\n    <tr>\\n      <td>Orbit Period:</td>\\n      <td>687 days (1.9 years)</td>\\n    </tr>\\n    <tr>\\n      <td>Surface Temperature:</td>\\n      <td>-87 to -5 °C</td>\\n    </tr>\\n    <tr>\\n      <td>First Record:</td>\\n      <td>2nd millennium BC</td>\\n    </tr>\\n    <tr>\\n      <td>Recorded By:</td>\\n      <td>Egyptian astronomers</td>\\n    </tr>\\n  </tbody>\\n</table>',\n",
       " 'hemisphere_image_urls': [{'title': 'Cerberus Hemisphere Enhanced',\n",
       "   'img_url': 'http://astropedia.astrogeology.usgs.gov/download/Mars/Viking/cerberus_enhanced.tif'},\n",
       "  {'title': 'Schiaparelli Hemisphere Enhanced',\n",
       "   'img_url': 'http://astropedia.astrogeology.usgs.gov/download/Mars/Viking/schiaparelli_enhanced.tif'},\n",
       "  {'title': 'Syrtis Major Hemisphere Enhanced',\n",
       "   'img_url': 'http://astropedia.astrogeology.usgs.gov/download/Mars/Viking/syrtis_major_enhanced.tif'},\n",
       "  {'title': 'Valles Marineris Hemisphere Enhanced',\n",
       "   'img_url': 'http://astropedia.astrogeology.usgs.gov/download/Mars/Viking/valles_marineris_enhanced.tif'}]}"
      ]
     },
     "execution_count": 14,
     "metadata": {},
     "output_type": "execute_result"
    }
   ],
   "source": [
    "allData = {\n",
    "    'news_title': news_title,\n",
    "    'news_p': news_p,\n",
    "    'featured_image_url': featured_image_url,\n",
    "    'mars_weather': mars_weather,\n",
    "    'MarsFactsTables': MarsFactsTables,\n",
    "    'hemisphere_image_urls': hemisphere_image_urls   \n",
    "}\n",
    "allData"
   ]
  }
 ],
 "metadata": {
  "kernelspec": {
   "display_name": "Python 3",
   "language": "python",
   "name": "python3"
  },
  "language_info": {
   "codemirror_mode": {
    "name": "ipython",
    "version": 3
   },
   "file_extension": ".py",
   "mimetype": "text/x-python",
   "name": "python",
   "nbconvert_exporter": "python",
   "pygments_lexer": "ipython3",
   "version": "3.7.1"
  }
 },
 "nbformat": 4,
 "nbformat_minor": 2
}
